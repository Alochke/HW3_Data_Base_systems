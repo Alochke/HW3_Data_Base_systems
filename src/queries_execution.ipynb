{
  "cells": [
    {
      "cell_type": "code",
      "execution_count": null,
      "metadata": {
        "colab": {
          "base_uri": "https://localhost:8080/"
        },
        "id": "ycxL5ThspbA_",
        "outputId": "64596709-643e-4e0f-a2e7-41e32758269c"
      },
      "outputs": [],
      "source": [
        "import mysql.connector\n",
        "\n",
        "from create_db_script import create_tables\n",
        "from api_data_retrieve import insert_data\n",
        "import queries_db_script\n",
        "cnx = mysql.connector.connect(user = 'alonpolski', \\\n",
        "                              password = 'alon2285',\\\n",
        "                              host='127.0.0.1',\\\n",
        "                              database='alonpolski',\\\n",
        "                              port=3305\n",
        "                            )\n",
        "\n",
        "cursor = cnx.cursor()\n",
        "\n",
        "create_tables(cursor)\n",
        "insert_data(cursor)\n",
        "cnx.commit()\n",
        "\n"
      ]
    }
  ],
  "metadata": {
    "colab": {
      "provenance": []
    },
    "kernelspec": {
      "display_name": "Python 3",
      "name": "python3"
    },
    "language_info": {
      "name": "python"
    }
  },
  "nbformat": 4,
  "nbformat_minor": 0
}
