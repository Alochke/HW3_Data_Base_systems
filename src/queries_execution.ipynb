{
  "cells": [
    {
      "cell_type": "markdown",
      "metadata": {},
      "source": [
        "Import needed objects and initiate the connection."
      ]
    },
    {
      "cell_type": "code",
      "execution_count": 1,
      "metadata": {
        "colab": {
          "base_uri": "https://localhost:8080/"
        },
        "id": "ycxL5ThspbA_",
        "outputId": "64596709-643e-4e0f-a2e7-41e32758269c"
      },
      "outputs": [],
      "source": [
        "import mysql.connector\n",
        "\n",
        "from create_db_script import create_tables\n",
        "from api_data_retrieve import insert_data\n",
        "from queries_db_script import *\n",
        "cnx = mysql.connector.connect(user = 'alonpolski', \n",
        "                              password = 'alon2285',\n",
        "                              host='127.0.0.1',\n",
        "                              database='alonpolski',\n",
        "                              port=3305\n",
        "                            )\n",
        "\n",
        "cursor = cnx.cursor()\n",
        "\n"
      ]
    },
    {
      "cell_type": "markdown",
      "metadata": {},
      "source": [
        "Create the DB.\n",
        "Be warned, it took us 31 minutes to run this part, we've initiated the db beforehand for your convenience.\n",
        "We've assumed this ok because Biesan wrote it's ok for it to take 20 minutes on another student's question."
      ]
    },
    {
      "cell_type": "code",
      "execution_count": null,
      "metadata": {},
      "outputs": [],
      "source": [
        "create_tables(cursor)\n",
        "insert_data(cursor)\n",
        "\n",
        "try:\n",
        "    cnx.commit()\n",
        "except mysql.connector.Error as err:\n",
        "    print(err.msg)"
      ]
    },
    {
      "cell_type": "markdown",
      "metadata": {},
      "source": [
        "A query that gets a genre and two year numbers,\n",
        "and returns a table that has movie genres, movie ids, movie names, the years in which production started, duration in minutes and average imdb ratings (If no ratings were given the rating will be 0.) columns (in that order) that contains only the information of titles of the given genre that started the production between the given years.\n",
        "The result will be sorted by descending average rating."
      ]
    },
    {
      "cell_type": "code",
      "execution_count": null,
      "metadata": {},
      "outputs": [],
      "source": [
        "try:\n",
        "    q1=query_1()\n",
        "    cursor.execute(q1, (\"Action\", 1900, 1950))\n",
        "    result = cursor.fetchall()\n",
        "    for x in result:\n",
        "        print(x)\n",
        "except mysql.connector.Error as err:\n",
        "    print(err.msg)"
      ]
    },
    {
      "cell_type": "markdown",
      "metadata": {},
      "source": [
        "A full-text query by movie name, that returns the matching rows in the title table."
      ]
    },
    {
      "cell_type": "code",
      "execution_count": null,
      "metadata": {},
      "outputs": [],
      "source": [
        "try:\n",
        "    q2=query_2()\n",
        "    cursor.execute(q2, (\"Night of the day\",))\n",
        "    result = cursor.fetchall()\n",
        "    for x in result:\n",
        "        print(x)\n",
        "except mysql.connector.Error as err:\n",
        "    print(err.msg)"
      ]
    },
    {
      "cell_type": "markdown",
      "metadata": {},
      "source": [
        "A full-text query by movie name, that returns a table where the first column contains the ids of the movies,\n",
        "the second, their names,\n",
        "the third, a type of job in this movie's production,\n",
        "and the fourth, how many people did this job.\n",
        "If no data was gathered about a person doing a job on a production then there won't be a row for the film + job combination in the table.\n",
        "\n",
        "The result will be sorted by ascending movie_id."
      ]
    },
    {
      "cell_type": "code",
      "execution_count": null,
      "metadata": {},
      "outputs": [],
      "source": [
        "try:\n",
        "    q3=query_3()\n",
        "    cursor.execute(q3, (\"home\",))\n",
        "    result = cursor.fetchall()\n",
        "    for x in result:\n",
        "        print(x)\n",
        "except mysql.connector.Error as err:\n",
        "    print(err.msg)"
      ]
    },
    {
      "cell_type": "markdown",
      "metadata": {},
      "source": [
        "A query that gets for a person the average rating of average imdb movie ratings where the person was part of the production,\n",
        "by the person's name.\n",
        "(Movies with no rating will be counted as having their average rating equal to zero.)\n",
        "\n",
        "The result will be sorted by descending average of averages.\n",
        "\n",
        "The query uses like to search by the person's name so we can use % to search for substrings."
      ]
    },
    {
      "cell_type": "code",
      "execution_count": null,
      "metadata": {},
      "outputs": [],
      "source": [
        "try:\n",
        "    q4=query_4()\n",
        "    cursor.execute(q4, (\"Dan%\",))\n",
        "    result = cursor.fetchall()\n",
        "    for x in result:\n",
        "        print(x)\n",
        "except mysql.connector.Error as err:\n",
        "    print(err.msg)"
      ]
    },
    {
      "cell_type": "markdown",
      "metadata": {},
      "source": [
        "A query that gets all industry professions having the amount of people working in them greater than the number given."
      ]
    },
    {
      "cell_type": "code",
      "execution_count": null,
      "metadata": {},
      "outputs": [],
      "source": [
        "try:\n",
        "    q5=query_5()\n",
        "    cursor.execute(q5, (5,))\n",
        "    result = cursor.fetchall()\n",
        "    for x in result:\n",
        "        print(x)\n",
        "except mysql.connector.Error as err:\n",
        "    print(err.msg)"
      ]
    },
    {
      "cell_type": "markdown",
      "metadata": {},
      "source": [
        "Close the connection."
      ]
    },
    {
      "cell_type": "code",
      "execution_count": 7,
      "metadata": {},
      "outputs": [],
      "source": [
        "cursor.close()\n",
        "cnx.close()"
      ]
    }
  ],
  "metadata": {
    "colab": {
      "provenance": []
    },
    "kernelspec": {
      "display_name": "Python 3",
      "name": "python3"
    },
    "language_info": {
      "codemirror_mode": {
        "name": "ipython",
        "version": 3
      },
      "file_extension": ".py",
      "mimetype": "text/x-python",
      "name": "python",
      "nbconvert_exporter": "python",
      "pygments_lexer": "ipython3",
      "version": "3.12.0"
    }
  },
  "nbformat": 4,
  "nbformat_minor": 0
}
