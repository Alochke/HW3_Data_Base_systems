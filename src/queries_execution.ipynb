{
  "cells": [
    {
      "cell_type": "code",
      "execution_count": null,
      "metadata": {
        "colab": {
          "base_uri": "https://localhost:8080/"
        },
        "id": "ycxL5ThspbA_",
        "outputId": "64596709-643e-4e0f-a2e7-41e32758269c"
      },
      "outputs": [],
      "source": [
        "import mysql.connector\n",
        "\n",
        "from create_db_script import create_tables\n",
        "from api_data_retrieve import insert_data\n",
        "from queries_db_script import *\n",
        "cnx = mysql.connector.connect(user = 'alonpolski', \\\n",
        "                              password = 'alon2285',\\\n",
        "                              host='127.0.0.1',\\\n",
        "                              database='alonpolski',\\\n",
        "                              port=3305\n",
        "                            )\n",
        "\n",
        "cursor = cnx.cursor()\n",
        "\n",
        "create_tables(cursor)\n",
        "insert_data(cursor)"
      ]
    },
    {
      "cell_type": "markdown",
      "metadata": {},
      "source": [
        "A query that gets a genre and two year numbers,\n",
        "and returns a table that has movie's genre, movie ids, movie name, years, duration in minutes and average imdb ratings columns (in that order)\n",
        "that contains only the information of titles of the given genre that started the production between the given years.\n",
        "The result will be sorted by descending average rating."
      ]
    },
    {
      "cell_type": "code",
      "execution_count": null,
      "metadata": {},
      "outputs": [],
      "source": [
        "q1=query_1()\n",
        "cursor.execute(q1, (\"Horror\", 1990, 1992))\n",
        "#print\n",
        "result = cursor.fetchall()\n",
        "for x in result:\n",
        "    print(x)"
      ]
    },
    {
      "cell_type": "markdown",
      "metadata": {},
      "source": [
        "A query that searches by a person's name movies where the person was part of production,\n",
        "and a job type he did on this poruction.\n",
        "\n",
        "The table will have five columns,\n",
        "the first contains the id of a person,\n",
        "the second his/her name,\n",
        "the third is a id of a movie where the person was part of production,\n",
        "the fourth is the name of the movie,\n",
        "and the fifth is the type of job the person did on that movie.\n",
        "\n",
        "The result will be sorted by ascending person_id first, and will have an inner order dictated by ascending movie_id."
      ]
    },
    {
      "cell_type": "code",
      "execution_count": null,
      "metadata": {},
      "outputs": [],
      "source": [
        "q2=query_2()\n",
        "cursor.execute(q2, \"Dan\")\n",
        "#print\n",
        "result = cursor.fetchall()\n",
        "for x in result:\n",
        "    print(x)"
      ]
    },
    {
      "cell_type": "markdown",
      "metadata": {},
      "source": [
        "A query that searches by movie name, and returns a table where the first column contains the ids of the movies,\n",
        "the second their names,\n",
        "a type of job in this movie\n",
        "and how many people did this job.\n",
        "\n",
        "The result will be sorted by ascending person_id movie_id."
      ]
    },
    {
      "cell_type": "code",
      "execution_count": null,
      "metadata": {},
      "outputs": [],
      "source": [
        "q3=query_3()\n",
        "cursor.execute(q3, \"The night of the day\")\n",
        "#print\n",
        "result = cursor.fetchall()\n",
        "for x in result:\n",
        "    print(x)"
      ]
    },
    {
      "cell_type": "markdown",
      "metadata": {},
      "source": [
        "A query that gets for a person the average rating of average imdb movie ratings where the person was part of the production, by the person's name.\n",
        "\n",
        "The result will be sorted by descending average of averages."
      ]
    },
    {
      "cell_type": "code",
      "execution_count": null,
      "metadata": {},
      "outputs": [],
      "source": [
        "q4=query_4()\n",
        "cursor.execute(q4, \"Brad\")\n",
        "#print\n",
        "result = cursor.fetchall()\n",
        "for x in result:\n",
        "    print(x)"
      ]
    },
    {
      "cell_type": "markdown",
      "metadata": {},
      "source": [
        "A query that gets all industry professions having amount of people working in them greater than the number given."
      ]
    },
    {
      "cell_type": "code",
      "execution_count": null,
      "metadata": {},
      "outputs": [],
      "source": [
        "q5=query_5()\n",
        "cursor.execute(q5, 15)\n",
        "#print\n",
        "result = cursor.fetchall()\n",
        "for x in result:\n",
        "    print(x)"
      ]
    },
    {
      "cell_type": "code",
      "execution_count": null,
      "metadata": {},
      "outputs": [],
      "source": [
        "cursor.close()\n",
        "cnx.close()"
      ]
    }
  ],
  "metadata": {
    "colab": {
      "provenance": []
    },
    "kernelspec": {
      "display_name": "Python 3",
      "name": "python3"
    },
    "language_info": {
      "name": "python"
    }
  },
  "nbformat": 4,
  "nbformat_minor": 0
}
